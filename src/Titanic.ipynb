{
 "cells": [
  {
   "cell_type": "markdown",
   "metadata": {},
   "source": [
    "# Projet Titanic - R"
   ]
  },
  {
   "cell_type": "code",
   "execution_count": 2,
   "metadata": {},
   "outputs": [],
   "source": [
    "urldata <- 'http://w3.mi.parisdescartes.fr/~vperduca/programmation/data/titanic_train.Rdata'\n",
    "load(url(urldata))"
   ]
  },
  {
   "cell_type": "markdown",
   "metadata": {},
   "source": [
    "**Question 2 - Explore the data structure**"
   ]
  },
  {
   "cell_type": "code",
   "execution_count": 3,
   "metadata": {},
   "outputs": [
    {
     "data": {
      "text/html": [
       "594"
      ],
      "text/latex": [
       "594"
      ],
      "text/markdown": [
       "594"
      ],
      "text/plain": [
       "[1] 594"
      ]
     },
     "metadata": {},
     "output_type": "display_data"
    }
   ],
   "source": [
    "#Nombre d'observations : 594 \n",
    "nrow(train)"
   ]
  },
  {
   "cell_type": "code",
   "execution_count": 4,
   "metadata": {},
   "outputs": [
    {
     "data": {
      "text/html": [
       "12"
      ],
      "text/latex": [
       "12"
      ],
      "text/markdown": [
       "12"
      ],
      "text/plain": [
       "[1] 12"
      ]
     },
     "metadata": {},
     "output_type": "display_data"
    }
   ],
   "source": [
    "# Nombre de variables : 12\n",
    "ncol(train)"
   ]
  },
  {
   "cell_type": "markdown",
   "metadata": {},
   "source": [
    "Nom des variables : PassengerId (Qualitative), Survived (Qualitative), Pclass (Qualitative), Name (Qualitative), Sex (Qualitative), Age (Quantitative), SibSp (Quantitative), Parch (Quantitative), Ticket (Qualitative), Fare (Quantitative), Cabin (Qualitative), Embarked (Qualitative).\n"
   ]
  },
  {
   "cell_type": "code",
   "execution_count": 5,
   "metadata": {},
   "outputs": [
    {
     "data": {
      "text/html": [
       "<ol class=list-inline>\n",
       "\t<li>'PassengerId'</li>\n",
       "\t<li>'Survived'</li>\n",
       "\t<li>'Pclass'</li>\n",
       "\t<li>'Name'</li>\n",
       "\t<li>'Sex'</li>\n",
       "\t<li>'Age'</li>\n",
       "\t<li>'SibSp'</li>\n",
       "\t<li>'Parch'</li>\n",
       "\t<li>'Ticket'</li>\n",
       "\t<li>'Fare'</li>\n",
       "\t<li>'Cabin'</li>\n",
       "\t<li>'Embarked'</li>\n",
       "</ol>\n"
      ],
      "text/latex": [
       "\\begin{enumerate*}\n",
       "\\item 'PassengerId'\n",
       "\\item 'Survived'\n",
       "\\item 'Pclass'\n",
       "\\item 'Name'\n",
       "\\item 'Sex'\n",
       "\\item 'Age'\n",
       "\\item 'SibSp'\n",
       "\\item 'Parch'\n",
       "\\item 'Ticket'\n",
       "\\item 'Fare'\n",
       "\\item 'Cabin'\n",
       "\\item 'Embarked'\n",
       "\\end{enumerate*}\n"
      ],
      "text/markdown": [
       "1. 'PassengerId'\n",
       "2. 'Survived'\n",
       "3. 'Pclass'\n",
       "4. 'Name'\n",
       "5. 'Sex'\n",
       "6. 'Age'\n",
       "7. 'SibSp'\n",
       "8. 'Parch'\n",
       "9. 'Ticket'\n",
       "10. 'Fare'\n",
       "11. 'Cabin'\n",
       "12. 'Embarked'\n",
       "\n",
       "\n"
      ],
      "text/plain": [
       " [1] \"PassengerId\" \"Survived\"    \"Pclass\"      \"Name\"        \"Sex\"        \n",
       " [6] \"Age\"         \"SibSp\"       \"Parch\"       \"Ticket\"      \"Fare\"       \n",
       "[11] \"Cabin\"       \"Embarked\"   "
      ]
     },
     "metadata": {},
     "output_type": "display_data"
    }
   ],
   "source": [
    "names(train)"
   ]
  },
  {
   "cell_type": "code",
   "execution_count": 6,
   "metadata": {},
   "outputs": [
    {
     "data": {
      "text/html": [
       "585"
      ],
      "text/latex": [
       "585"
      ],
      "text/markdown": [
       "585"
      ],
      "text/plain": [
       "[1] 585"
      ]
     },
     "metadata": {},
     "output_type": "display_data"
    }
   ],
   "source": [
    "# Il y a 585 valeurs manquantes \n",
    "sum(is.na(train))"
   ]
  },
  {
   "cell_type": "code",
   "execution_count": 7,
   "metadata": {
    "scrolled": true
   },
   "outputs": [
    {
     "data": {
      "text/plain": [
       "  PassengerId       Survived          Pclass     \n",
       " Min.   :  2.0   Min.   :0.0000   Min.   :1.000  \n",
       " 1st Qu.:214.2   1st Qu.:0.0000   1st Qu.:2.000  \n",
       " Median :446.5   Median :0.0000   Median :3.000  \n",
       " Mean   :442.2   Mean   :0.3721   Mean   :2.323  \n",
       " 3rd Qu.:663.8   3rd Qu.:1.0000   3rd Qu.:3.000  \n",
       " Max.   :891.0   Max.   :1.0000   Max.   :3.000  \n",
       "                                                 \n",
       "                                    Name         Sex           Age       \n",
       " Abbott, Mrs. Stanton (Rosa Hunt)     :  1   female:201   Min.   : 0.75  \n",
       " Abelson, Mr. Samuel                  :  1   male  :393   1st Qu.:21.00  \n",
       " Abelson, Mrs. Samuel (Hannah Wizosky):  1                Median :28.00  \n",
       " Adams, Mr. John                      :  1                Mean   :29.58  \n",
       " Aks, Mrs. Sam (Leah Rosen)           :  1                3rd Qu.:38.00  \n",
       " Albimona, Mr. Nassef Cassem          :  1                Max.   :71.00  \n",
       " (Other)                              :588                NA's   :121    \n",
       "     SibSp            Parch             Ticket         Fare        \n",
       " Min.   :0.0000   Min.   :0.0000   3101295 :  6   Min.   :  0.000  \n",
       " 1st Qu.:0.0000   1st Qu.:0.0000   1601    :  5   1st Qu.:  7.896  \n",
       " Median :0.0000   Median :0.0000   CA. 2343:  5   Median : 13.500  \n",
       " Mean   :0.5387   Mean   :0.3165   347077  :  4   Mean   : 31.009  \n",
       " 3rd Qu.:1.0000   3rd Qu.:0.0000   347088  :  4   3rd Qu.: 29.125  \n",
       " Max.   :8.0000   Max.   :6.0000   CA 2144 :  4   Max.   :512.329  \n",
       "                                   (Other) :566                    \n",
       "             Cabin     Embarked  \n",
       " G6             :  3   C   :116  \n",
       " B57 B59 B63 B66:  2   Q   : 53  \n",
       " B77            :  2   S   :424  \n",
       " B96 B98        :  2   NA's:  1  \n",
       " C123           :  2             \n",
       " (Other)        :120             \n",
       " NA's           :463             "
      ]
     },
     "metadata": {},
     "output_type": "display_data"
    }
   ],
   "source": [
    "# Les variables avec le plus de données manquantes ('NA's) sont CABIN (463) et AGE (121).\n",
    "summary(train)"
   ]
  },
  {
   "cell_type": "markdown",
   "metadata": {},
   "source": [
    "**Question 3 - Description of some data**\n",
    "\n",
    "- S est une variable qualitative et discrète.\n",
    "- Sx est une variable qualitative et ordonnée.\n",
    "- P est une variable qualitative et discrète.\n",
    "- Age est une variable quantitative et continue."
   ]
  },
  {
   "cell_type": "markdown",
   "metadata": {},
   "source": [
    "**Question 4 - Cutting age variable**"
   ]
  },
  {
   "cell_type": "code",
   "execution_count": 8,
   "metadata": {
    "scrolled": true
   },
   "outputs": [
    {
     "data": {
      "text/html": [
       "<ol class=list-inline>\n",
       "\t<li>(40,60]</li>\n",
       "\t<li>(20,40]</li>\n",
       "\t<li>(20,40]</li>\n",
       "\t<li>(20,40]</li>\n",
       "\t<li>(0,20]</li>\n",
       "\t<li>(20,40]</li>\n",
       "</ol>\n",
       "\n",
       "<details>\n",
       "\t<summary style=display:list-item;cursor:pointer>\n",
       "\t\t<strong>Levels</strong>:\n",
       "\t</summary>\n",
       "\t<ol class=list-inline>\n",
       "\t\t<li>'(0,20]'</li>\n",
       "\t\t<li>'(20,40]'</li>\n",
       "\t\t<li>'(40,60]'</li>\n",
       "\t\t<li>'(60,80]'</li>\n",
       "\t</ol>\n",
       "</details>"
      ],
      "text/latex": [
       "\\begin{enumerate*}\n",
       "\\item (40,60{]}\n",
       "\\item (20,40{]}\n",
       "\\item (20,40{]}\n",
       "\\item (20,40{]}\n",
       "\\item (0,20{]}\n",
       "\\item (20,40{]}\n",
       "\\end{enumerate*}\n",
       "\n",
       "\\emph{Levels}: \\begin{enumerate*}\n",
       "\\item '(0,20{]}'\n",
       "\\item '(20,40{]}'\n",
       "\\item '(40,60{]}'\n",
       "\\item '(60,80{]}'\n",
       "\\end{enumerate*}\n"
      ],
      "text/markdown": [
       "1. (40,60]\n",
       "2. (20,40]\n",
       "3. (20,40]\n",
       "4. (20,40]\n",
       "5. (0,20]\n",
       "6. (20,40]\n",
       "\n",
       "\n",
       "\n",
       "**Levels**: 1. '(0,20]'\n",
       "2. '(20,40]'\n",
       "3. '(40,60]'\n",
       "4. '(60,80]'\n",
       "\n",
       "\n"
      ],
      "text/plain": [
       "[1] (40,60] (20,40] (20,40] (20,40] (0,20]  (20,40]\n",
       "Levels: (0,20] (20,40] (40,60] (60,80]"
      ]
     },
     "metadata": {},
     "output_type": "display_data"
    }
   ],
   "source": [
    "# train$Age\n",
    "cut_age <- cut(train$Age, breaks = 20 * (0:4))\n",
    "train$cAge = cut_age\n",
    "head(cut_age)"
   ]
  },
  {
   "cell_type": "markdown",
   "metadata": {},
   "source": [
    "La variable cA est devenue une variable qualitative."
   ]
  },
  {
   "cell_type": "markdown",
   "metadata": {},
   "source": [
    "**Liens entres les variables**\n",
    "\n",
    "**Question 5**"
   ]
  },
  {
   "cell_type": "code",
   "execution_count": 9,
   "metadata": {
    "scrolled": true
   },
   "outputs": [
    {
     "name": "stdout",
     "output_type": "stream",
     "text": [
      "75.62189 % of female survived.17.55725 % of male survived."
     ]
    },
    {
     "data": {
      "image/png": "[encoded data removed]",
      "text/plain": [
       "Plot with title “Ratio of male and female that survived”"
      ]
     },
     "metadata": {},
     "output_type": "display_data"
    }
   ],
   "source": [
    "# Lien entre S et Sx :\n",
    "\n",
    "nb_female_survived <- sum(train$Sex == \"female\" & train$Survived == 1)\n",
    "nb_female <- sum(train$Sex == \"female\")\n",
    "ratio_female_survived <- (nb_female_survived * 100) / nb_female \n",
    "\n",
    "nb_male_survived <- sum(train$Sex == \"male\" & train$Survived == 1)\n",
    "nb_male <- sum(train$Sex == \"male\")\n",
    "ratio_male_survived <- (nb_male_survived * 100) / nb_male \n",
    "\n",
    "cat(ratio_female_survived, \"% of female survived.\")\n",
    "cat(ratio_male_survived, \"% of male survived.\")\n",
    "\n",
    "sex_table <- c(nb_female_survived, nb_male_survived)\n",
    "labels <- c(\"Female\",\"Male\")\n",
    "title <- \"Ratio of male and female that survived\"\n",
    "barplot(sex_table, names.arg = labels, main = title)"
   ]
  },
  {
   "cell_type": "markdown",
   "metadata": {},
   "source": [
    "La chance de survie d'une femme est beaucoup plus élevée que l'homme."
   ]
  },
  {
   "cell_type": "code",
   "execution_count": 10,
   "metadata": {
    "scrolled": true
   },
   "outputs": [
    {
     "name": "stdout",
     "output_type": "stream",
     "text": [
      "65,46763 % of P1 survived.45,16129 % of P2 survived.22,3565 % of P3 survived."
     ]
    },
    {
     "data": {
      "image/png": "[encoded data removed]",
      "text/plain": [
       "Plot with title “Ratio of differents class that survived”"
      ]
     },
     "metadata": {},
     "output_type": "display_data"
    }
   ],
   "source": [
    "# Lien entre S et P :\n",
    "\n",
    "nb_p1_survived <- sum(train$Pclass == 1 & train$Survived == 1)\n",
    "nb_p1 <- sum(train$Pclass == 1)\n",
    "ratio_p1_survived <- (nb_p1_survived * 100) / nb_p1 \n",
    "\n",
    "nb_p2_survived <- sum(train$Pclass == 2 & train$Survived == 1)\n",
    "nb_p2 <- sum(train$Pclass == 2)\n",
    "ratio_p2_survived <- (nb_p2_survived * 100) / nb_p2\n",
    "\n",
    "nb_p3_survived <- sum(train$Pclass == 3 & train$Survived == 1)\n",
    "nb_p3 <- sum(train$Pclass == 3)\n",
    "ratio_p3_survived <- (nb_p3_survived * 100) / nb_p3 \n",
    "\n",
    "cat(ratio_p1_survived, \"% of P1 survived.\")\n",
    "cat(ratio_p2_survived, \"% of P2 survived.\")\n",
    "cat(ratio_p3_survived, \"% of P3 survived.\")\n",
    "\n",
    "p_table <- c(ratio_p1_survived, ratio_p2_survived, ratio_p3_survived)\n",
    "labels <- c(\"P1\",\"P2\", \"P3\")\n",
    "title <- \"Ratio of differents class that survived\"\n",
    "pie(p_table, labels, main = title)"
   ]
  },
  {
   "cell_type": "code",
   "execution_count": 11,
   "metadata": {
    "scrolled": true
   },
   "outputs": [
    {
     "data": {},
     "metadata": {},
     "output_type": "display_data"
    },
    {
     "data": {
      "image/png": "[encoded data removed]",
      "text/plain": [
       "plot without title"
      ]
     },
     "metadata": {},
     "output_type": "display_data"
    }
   ],
   "source": [
    "# Nous pouvons également représenter  ceci :\n",
    "\n",
    "library(\"ggplot2\")\n",
    "age <- train$Age\n",
    "class <- train$Pclass\n",
    "survive <- train$Survived == 1\n",
    "ggplot(train, aes(x=class, fill=survive)) + geom_bar()\n"
   ]
  },
  {
   "cell_type": "markdown",
   "metadata": {},
   "source": [
    "Plus la class est important, plus le taux de chance de survie augmente."
   ]
  },
  {
   "cell_type": "code",
   "execution_count": 12,
   "metadata": {
    "scrolled": true
   },
   "outputs": [
    {
     "name": "stderr",
     "output_type": "stream",
     "text": [
      "`stat_bin()` using `bins = 30`. Pick better value with `binwidth`.\n"
     ]
    },
    {
     "data": {},
     "metadata": {},
     "output_type": "display_data"
    },
    {
     "data": {
      "image/png": "[encoded data removed]",
      "text/plain": [
       "plot without title"
      ]
     },
     "metadata": {},
     "output_type": "display_data"
    }
   ],
   "source": [
    "# Lien entre S et A\n",
    "# Clean the dataframe\n",
    "\n",
    "train$Cabin <- NULL\n",
    "train <- na.omit(train)\n",
    "age <- train$Age\n",
    "survive <- train$Survived == 1\n",
    "ggplot(train, aes(x=age, fill=survive )) + geom_histogram()"
   ]
  },
  {
   "cell_type": "code",
   "execution_count": 13,
   "metadata": {
    "scrolled": true
   },
   "outputs": [
    {
     "data": {
      "image/png": "[encoded data removed]",
      "text/plain": [
       "Plot with title “Ratio of age range that survived”"
      ]
     },
     "metadata": {},
     "output_type": "display_data"
    }
   ],
   "source": [
    "# Lien entre S et cA \n",
    "# Clean the dataframe\n",
    "train$Cabin <- NULL\n",
    "train = na.omit(train)\n",
    "\n",
    "nb_cAge1 <- sum(train$cAge == \"(0,20]\")\n",
    "nb_cAge1_survived <- sum(train$cAge == \"(0,20]\" & train$Survived == 1)\n",
    "nb_cAge2 <- sum(train$cAge == \"(20,40]\")\n",
    "nb_cAge2_survived <- sum(train$cAge == \"(20,40]\" & train$Survived == 1)\n",
    "nb_cAge3 <- sum(train$cAge == \"(40,60]\")\n",
    "nb_cAge3_survived <- sum(train$cAge == \"(40,60]\" & train$Survived == 1)\n",
    "nb_cAge4 <- sum(train$cAge == \"(60,80]\")\n",
    "nb_cAge4_survived <- sum(train$cAge == \"(60,80]\" & train$Survived == 1)\n",
    "\n",
    "ratio_cAge1 <- (nb_cAge1_survived * 100) / nb_cAge1\n",
    "ratio_cAge2 <- (nb_cAge2_survived * 100) / nb_cAge2\n",
    "ratio_cAge3 <- (nb_cAge3_survived * 100) / nb_cAge3\n",
    "ratio_cAge4 <- (nb_cAge4_survived * 100) / nb_cAge4\n",
    "\n",
    "ratio_list <- c(ratio_cAge1, ratio_cAge2, ratio_cAge3, ratio_cAge4)\n",
    "labels <- c(\"(0,20]\", \"(20,40]\", \"(40,60]\", \"(60,80]\")\n",
    "title <- \"Ratio of age range that survived\"\n",
    "pie(ratio_list, labels = labels, main = title)"
   ]
  },
  {
   "cell_type": "markdown",
   "metadata": {},
   "source": [
    "**Question 6**\n",
    "\n",
    "Une première hypothèse peut être établie quant à l'avantage de survie d'un candidat. En effet, avec les analyses précédentes, on peut estimé que les caractères homme, agée et dernière classe contribuent à faire baisser l'espérence de survie, alors que les caractères femme et première classe contribuent à la faire augmenter.\n"
   ]
  },
  {
   "cell_type": "markdown",
   "metadata": {},
   "source": [
    "**Prédiction de la survie**\n",
    "**Question 7**"
   ]
  },
  {
   "cell_type": "code",
   "execution_count": 14,
   "metadata": {},
   "outputs": [
    {
     "data": {
      "text/html": [
       "0,755813953488372"
      ],
      "text/latex": [
       "0,755813953488372"
      ],
      "text/markdown": [
       "0,755813953488372"
      ],
      "text/plain": [
       "[1] 0,755814"
      ]
     },
     "metadata": {},
     "output_type": "display_data"
    },
    {
     "data": {
      "text/html": [
       "0,18"
      ],
      "text/latex": [
       "0,18"
      ],
      "text/markdown": [
       "0,18"
      ],
      "text/plain": [
       "[1] 0,18"
      ]
     },
     "metadata": {},
     "output_type": "display_data"
    },
    {
     "data": {
      "text/html": [
       "0,692307692307692"
      ],
      "text/latex": [
       "0,692307692307692"
      ],
      "text/markdown": [
       "0,692307692307692"
      ],
      "text/plain": [
       "[1] 0,6923077"
      ]
     },
     "metadata": {},
     "output_type": "display_data"
    },
    {
     "data": {
      "text/html": [
       "0,445378151260504"
      ],
      "text/latex": [
       "0,445378151260504"
      ],
      "text/markdown": [
       "0,445378151260504"
      ],
      "text/plain": [
       "[1] 0,4453782"
      ]
     },
     "metadata": {},
     "output_type": "display_data"
    },
    {
     "data": {
      "text/html": [
       "0,211864406779661"
      ],
      "text/latex": [
       "0,211864406779661"
      ],
      "text/markdown": [
       "0,211864406779661"
      ],
      "text/plain": [
       "[1] 0,2118644"
      ]
     },
     "metadata": {},
     "output_type": "display_data"
    },
    {
     "data": {
      "text/html": [
       "0,449152542372881"
      ],
      "text/latex": [
       "0,449152542372881"
      ],
      "text/markdown": [
       "0,449152542372881"
      ],
      "text/plain": [
       "[1] 0,4491525"
      ]
     },
     "metadata": {},
     "output_type": "display_data"
    },
    {
     "data": {
      "text/html": [
       "0,37007874015748"
      ],
      "text/latex": [
       "0,37007874015748"
      ],
      "text/markdown": [
       "0,37007874015748"
      ],
      "text/plain": [
       "[1] 0,3700787"
      ]
     },
     "metadata": {},
     "output_type": "display_data"
    },
    {
     "data": {
      "text/html": [
       "0,404494382022472"
      ],
      "text/latex": [
       "0,404494382022472"
      ],
      "text/markdown": [
       "0,404494382022472"
      ],
      "text/plain": [
       "[1] 0,4044944"
      ]
     },
     "metadata": {},
     "output_type": "display_data"
    },
    {
     "data": {
      "text/html": [
       "0,0909090909090909"
      ],
      "text/latex": [
       "0,0909090909090909"
      ],
      "text/markdown": [
       "0,0909090909090909"
      ],
      "text/plain": [
       "[1] 0,09090909"
      ]
     },
     "metadata": {},
     "output_type": "display_data"
    }
   ],
   "source": [
    "#P(S=1|Sx=Female), \n",
    "sum(train$Sex == 'female' & train$Survived == 1) / sum(train$Sex == 'female')\n",
    "\n",
    "\n",
    "#P(S=1|Sx=Male), \n",
    "sum(train$Sex == 'male' & train$Survived == 1) / sum(train$Sex == 'male')\n",
    "\n",
    "\n",
    "#P(S=1|P=1), \n",
    "sum(train$Pclass == 1 & train$Survived == 1) / sum(train$Pclass == 1)\n",
    "\n",
    "\n",
    "#P(S=1|P=2),\n",
    "sum(train$Pclass == 2 & train$Survived == 1) / sum(train$Pclass == 2)\n",
    "\n",
    "\n",
    "#P(S=1|P=3), \n",
    "sum(train$Pclass == 3 & train$Survived == 1) / sum(train$Pclass == 3)\n",
    "\n",
    "\n",
    "#P(S=1|cA=(0,20]), \n",
    "sum(train$cAge == \"(0,20]\" & train$Survived == 1) / sum(train$cAge == \"(0,20]\")\n",
    "\n",
    "\n",
    "#P(S=1|cA=(20,40]), \n",
    "sum(train$cAge == \"(20,40]\" & train$Survived == 1) / sum(train$cAge == \"(20,40]\")\n",
    "\n",
    "\n",
    "#P(S=1|cA=(40,60]), \n",
    "sum(train$cAge == \"(40,60]\" & train$Survived == 1) / sum(train$cAge == \"(40,60]\")\n",
    "  \n",
    "\n",
    "#P(S=1|cA=(60,80]), \n",
    "sum(train$cAge == \"(60,80]\" & train$Survived == 1) / sum(train$cAge == \"(60,80]\")"
   ]
  },
  {
   "cell_type": "markdown",
   "metadata": {},
   "source": [
    "**Question 8 - Probability tables**"
   ]
  },
  {
   "cell_type": "code",
   "execution_count": 15,
   "metadata": {},
   "outputs": [
    {
     "data": {
      "text/plain": [
       "   \n",
       "            0         1\n",
       "  1 0,1250000 0,4402174\n",
       "  2 0,2291667 0,2880435\n",
       "  3 0,6458333 0,2717391"
      ]
     },
     "metadata": {},
     "output_type": "display_data"
    },
    {
     "data": {
      "text/plain": [
       "        0         1 \n",
       "0,6101695 0,3898305 "
      ]
     },
     "metadata": {},
     "output_type": "display_data"
    },
    {
     "data": {
      "text/plain": [
       "        \n",
       "                 0         1\n",
       "  female 0,1458333 0,7065217\n",
       "  male   0,8541667 0,2934783"
      ]
     },
     "metadata": {},
     "output_type": "display_data"
    },
    {
     "data": {
      "text/plain": [
       "         \n",
       "                    0           1\n",
       "  (0,20]  0,225694444 0,288043478\n",
       "  (20,40] 0,555555556 0,510869565\n",
       "  (40,60] 0,184027778 0,195652174\n",
       "  (60,80] 0,034722222 0,005434783"
      ]
     },
     "metadata": {},
     "output_type": "display_data"
    }
   ],
   "source": [
    "S_P <- prop.table(table(train$Pclass, train$Survived), margin=2)\n",
    "rownames(S_P) <- c('1', '2', '3')\n",
    "colnames(S_P) <- c('0','1')\n",
    "S_P\n",
    "\n",
    "S <- prop.table(table(train$Survived))\n",
    "names(S) <- c('0','1')\n",
    "S\n",
    "\n",
    "S_Sx <- prop.table(table(train$Sex, train$Survived), margin=2)\n",
    "rownames(S_Sx) <- c('female','male')\n",
    "colnames(S_Sx) <- c('0','1')\n",
    "S_Sx\n",
    "\n",
    "S_Ca <- prop.table(table(train$cAge, train$Survived), margin=2)\n",
    "rownames(S_Ca) <- c('(0,20]','(20,40]', '(40,60]', '(60,80]')\n",
    "colnames(S_Ca) <- c('0','1')\n",
    "S_Ca"
   ]
  },
  {
   "cell_type": "markdown",
   "metadata": {},
   "source": [
    "**Question 9 - Bayes Classifier**"
   ]
  },
  {
   "cell_type": "code",
   "execution_count": 16,
   "metadata": {},
   "outputs": [
    {
     "name": "stdout",
     "output_type": "stream",
     "text": [
      "90,92874 % de chance de survivre."
     ]
    }
   ],
   "source": [
    "prob_prediction <- function(Sex, Pclass, cAge)\n",
    "{\n",
    "  numerator <- S_Sx[Sex, '1'] * S_P[Pclass, '1'] * S_Ca[cAge, '1'] * S['1']\n",
    "  denominator <- numerator + (S_Sx[Sex, '0'] * S_P[Pclass, '0'] * S_Ca[cAge, '0'] * S['0'])\n",
    "\n",
    "  \n",
    "  return((numerator / denominator) * 100)\n",
    "}\n",
    "\n",
    "cat((prob_prediction('female', '1', '(20,40]')), '% de chance de survivre.')"
   ]
  },
  {
   "cell_type": "markdown",
   "metadata": {},
   "source": [
    "**Evaluation de la performance du classificateur**    \n",
    "**Question 10 - Load data for test**"
   ]
  },
  {
   "cell_type": "code",
   "execution_count": 17,
   "metadata": {},
   "outputs": [],
   "source": [
    "urldata <- 'http://w3.mi.parisdescartes.fr/~vperduca/programmation/data/titanic_test.Rdata'\n",
    "load(url(urldata))"
   ]
  },
  {
   "cell_type": "markdown",
   "metadata": {},
   "source": [
    "**Question 11 - Produce probability vector**"
   ]
  },
  {
   "cell_type": "code",
   "execution_count": 18,
   "metadata": {
    "scrolled": true
   },
   "outputs": [
    {
     "name": "stdout",
     "output_type": "stream",
     "text": [
      "[[1]]\n",
      "[1] 45,11214\n",
      "\n",
      "[[2]]\n",
      "[1] 41,55066\n",
      "\n",
      "[[3]]\n",
      "[1] 49,66343\n",
      "\n",
      "[[4]]\n",
      "[1] 10,79405\n",
      "\n",
      "[[5]]\n",
      "[1] 45,11214\n",
      "\n",
      "[[6]]\n",
      "[1] 78,15415\n",
      "\n",
      "[[7]]\n",
      "[1] 7,828351\n",
      "\n",
      "[[8]]\n",
      "[1] 45,11214\n",
      "\n",
      "[[9]]\n",
      "[1] 41,55066\n",
      "\n",
      "[[10]]\n",
      "[1] 45,11214\n",
      "\n",
      "[[11]]\n",
      "[1] 92,05667\n",
      "\n",
      "[[12]]\n",
      "[1] 41,55066\n",
      "\n",
      "[[13]]\n",
      "[1] 41,55066\n",
      "\n",
      "[[14]]\n",
      "[1] 41,55066\n",
      "\n",
      "[[15]]\n",
      "[1] 41,55066\n",
      "\n",
      "[[16]]\n",
      "[1] 63,0476\n",
      "\n",
      "[[17]]\n",
      "[1] 93,29397\n",
      "\n",
      "[[18]]\n",
      "[1] 92,05667\n",
      "\n",
      "[[19]]\n",
      "[1] 93,29397\n",
      "\n",
      "[[20]]\n",
      "[1] 90,92874\n",
      "\n",
      "[[21]]\n",
      "[1] 90,92874\n",
      "\n",
      "[[22]]\n",
      "[1] 78,15415\n",
      "\n",
      "[[23]]\n",
      "[1] 93,29397\n",
      "\n",
      "[[24]]\n",
      "[1] 41,55066\n",
      "\n",
      "[[25]]\n",
      "[1] 45,11214\n",
      "\n",
      "[[26]]\n",
      "[1] 26,04259\n",
      "\n",
      "[[27]]\n",
      "[1] 90,92874\n",
      "\n",
      "[[28]]\n",
      "[1] 90,92874\n",
      "\n",
      "[[29]]\n",
      "[1] 41,55066\n",
      "\n",
      "[[30]]\n",
      "[1] 54,49562\n",
      "\n",
      "[[31]]\n",
      "[1] 7,828351\n",
      "\n",
      "[[32]]\n",
      "[1] 45,11214\n",
      "\n",
      "[[33]]\n",
      "[1] 10,79405\n",
      "\n",
      "[[34]]\n",
      "[1] 78,15415\n",
      "\n",
      "[[35]]\n",
      "[1] 41,55066\n",
      "\n",
      "[[36]]\n",
      "[1] 45,11214\n",
      "\n",
      "[[37]]\n",
      "[1] 90,92874\n",
      "\n",
      "[[38]]\n",
      "[1] 93,29397\n",
      "\n",
      "[[39]]\n",
      "[1] 45,11214\n",
      "\n",
      "[[40]]\n",
      "[1] 92,05667\n",
      "\n",
      "[[41]]\n",
      "[1] 90,92874\n",
      "\n",
      "[[42]]\n",
      "[1] 49,66343\n",
      "\n",
      "[[43]]\n",
      "[1] 92,05667\n",
      "\n",
      "[[44]]\n",
      "[1] 90,92874\n",
      "\n",
      "[[45]]\n",
      "[1] 90,92874\n",
      "\n",
      "[[46]]\n",
      "[1] 10,79405\n",
      "\n",
      "[[47]]\n",
      "[1] 10,79405\n",
      "\n",
      "[[48]]\n",
      "[1] 45,11214\n",
      "\n",
      "[[49]]\n",
      "[1] 41,55066\n",
      "\n",
      "[[50]]\n",
      "[1] 41,55066\n",
      "\n",
      "[[51]]\n",
      "[1] 93,29397\n",
      "\n",
      "[[52]]\n",
      "[1] 41,55066\n",
      "\n",
      "[[53]]\n",
      "[1] 90,92874\n",
      "\n",
      "[[54]]\n",
      "[1] 45,11214\n",
      "\n",
      "[[55]]\n",
      "[1] 78,15415\n",
      "\n",
      "[[56]]\n",
      "[1] 10,79405\n",
      "\n",
      "[[57]]\n",
      "[1] 49,66343\n",
      "\n",
      "[[58]]\n",
      "[1] 90,92874\n",
      "\n",
      "[[59]]\n",
      "[1] 93,29397\n",
      "\n",
      "[[60]]\n",
      "[1] 41,55066\n",
      "\n",
      "[[61]]\n",
      "[1] 45,11214\n",
      "\n",
      "[[62]]\n",
      "[1] 92,05667\n",
      "\n",
      "[[63]]\n",
      "[1] 49,66343\n",
      "\n",
      "[[64]]\n",
      "[1] 93,29397\n",
      "\n",
      "[[65]]\n",
      "[1] 93,29397\n",
      "\n",
      "[[66]]\n",
      "[1] 41,55066\n",
      "\n"
     ]
    }
   ],
   "source": [
    "prob.prediction <- function(test)\n",
    "{\n",
    "  V_Sex <- test$Sex\n",
    "  V_Pclass <- test$Pclass\n",
    "  V_cAge <- test$cAge\n",
    "  \n",
    "  V_prob <- list()\n",
    "  \n",
    "  for (i in 1:nrow(test))\n",
    "  {\n",
    "    cur_prob <- prob_prediction(V_Sex[i], V_Pclass[i], V_cAge[i])\n",
    "    V_prob[i] <- cur_prob\n",
    "  }\n",
    "  \n",
    "  return(V_prob)\n",
    "}\n",
    "\n",
    "V_prob <- prob.prediction(test)\n",
    "print(V_prob)"
   ]
  },
  {
   "cell_type": "markdown",
   "metadata": {},
   "source": [
    "**Question 12 - Maximum a Posteriori Probability**"
   ]
  },
  {
   "cell_type": "code",
   "execution_count": 19,
   "metadata": {
    "scrolled": true
   },
   "outputs": [
    {
     "data": {
      "text/html": [
       "<ol>\n",
       "\t<li>0</li>\n",
       "\t<li>0</li>\n",
       "\t<li>0</li>\n",
       "\t<li>0</li>\n",
       "\t<li>0</li>\n",
       "\t<li>1</li>\n",
       "\t<li>0</li>\n",
       "\t<li>0</li>\n",
       "\t<li>0</li>\n",
       "\t<li>0</li>\n",
       "\t<li>1</li>\n",
       "\t<li>0</li>\n",
       "\t<li>0</li>\n",
       "\t<li>0</li>\n",
       "\t<li>0</li>\n",
       "\t<li>1</li>\n",
       "\t<li>1</li>\n",
       "\t<li>1</li>\n",
       "\t<li>1</li>\n",
       "\t<li>1</li>\n",
       "\t<li>1</li>\n",
       "\t<li>1</li>\n",
       "\t<li>1</li>\n",
       "\t<li>0</li>\n",
       "\t<li>0</li>\n",
       "\t<li>0</li>\n",
       "\t<li>1</li>\n",
       "\t<li>1</li>\n",
       "\t<li>0</li>\n",
       "\t<li>1</li>\n",
       "\t<li>0</li>\n",
       "\t<li>0</li>\n",
       "\t<li>0</li>\n",
       "\t<li>1</li>\n",
       "\t<li>0</li>\n",
       "\t<li>0</li>\n",
       "\t<li>1</li>\n",
       "\t<li>1</li>\n",
       "\t<li>0</li>\n",
       "\t<li>1</li>\n",
       "\t<li>1</li>\n",
       "\t<li>0</li>\n",
       "\t<li>1</li>\n",
       "\t<li>1</li>\n",
       "\t<li>1</li>\n",
       "\t<li>0</li>\n",
       "\t<li>0</li>\n",
       "\t<li>0</li>\n",
       "\t<li>0</li>\n",
       "\t<li>0</li>\n",
       "\t<li>1</li>\n",
       "\t<li>0</li>\n",
       "\t<li>1</li>\n",
       "\t<li>0</li>\n",
       "\t<li>1</li>\n",
       "\t<li>0</li>\n",
       "\t<li>0</li>\n",
       "\t<li>1</li>\n",
       "\t<li>1</li>\n",
       "\t<li>0</li>\n",
       "\t<li>0</li>\n",
       "\t<li>1</li>\n",
       "\t<li>0</li>\n",
       "\t<li>1</li>\n",
       "\t<li>1</li>\n",
       "\t<li>0</li>\n",
       "</ol>\n"
      ],
      "text/latex": [
       "\\begin{enumerate}\n",
       "\\item 0\n",
       "\\item 0\n",
       "\\item 0\n",
       "\\item 0\n",
       "\\item 0\n",
       "\\item 1\n",
       "\\item 0\n",
       "\\item 0\n",
       "\\item 0\n",
       "\\item 0\n",
       "\\item 1\n",
       "\\item 0\n",
       "\\item 0\n",
       "\\item 0\n",
       "\\item 0\n",
       "\\item 1\n",
       "\\item 1\n",
       "\\item 1\n",
       "\\item 1\n",
       "\\item 1\n",
       "\\item 1\n",
       "\\item 1\n",
       "\\item 1\n",
       "\\item 0\n",
       "\\item 0\n",
       "\\item 0\n",
       "\\item 1\n",
       "\\item 1\n",
       "\\item 0\n",
       "\\item 1\n",
       "\\item 0\n",
       "\\item 0\n",
       "\\item 0\n",
       "\\item 1\n",
       "\\item 0\n",
       "\\item 0\n",
       "\\item 1\n",
       "\\item 1\n",
       "\\item 0\n",
       "\\item 1\n",
       "\\item 1\n",
       "\\item 0\n",
       "\\item 1\n",
       "\\item 1\n",
       "\\item 1\n",
       "\\item 0\n",
       "\\item 0\n",
       "\\item 0\n",
       "\\item 0\n",
       "\\item 0\n",
       "\\item 1\n",
       "\\item 0\n",
       "\\item 1\n",
       "\\item 0\n",
       "\\item 1\n",
       "\\item 0\n",
       "\\item 0\n",
       "\\item 1\n",
       "\\item 1\n",
       "\\item 0\n",
       "\\item 0\n",
       "\\item 1\n",
       "\\item 0\n",
       "\\item 1\n",
       "\\item 1\n",
       "\\item 0\n",
       "\\end{enumerate}\n"
      ],
      "text/markdown": [
       "1. 0\n",
       "2. 0\n",
       "3. 0\n",
       "4. 0\n",
       "5. 0\n",
       "6. 1\n",
       "7. 0\n",
       "8. 0\n",
       "9. 0\n",
       "10. 0\n",
       "11. 1\n",
       "12. 0\n",
       "13. 0\n",
       "14. 0\n",
       "15. 0\n",
       "16. 1\n",
       "17. 1\n",
       "18. 1\n",
       "19. 1\n",
       "20. 1\n",
       "21. 1\n",
       "22. 1\n",
       "23. 1\n",
       "24. 0\n",
       "25. 0\n",
       "26. 0\n",
       "27. 1\n",
       "28. 1\n",
       "29. 0\n",
       "30. 1\n",
       "31. 0\n",
       "32. 0\n",
       "33. 0\n",
       "34. 1\n",
       "35. 0\n",
       "36. 0\n",
       "37. 1\n",
       "38. 1\n",
       "39. 0\n",
       "40. 1\n",
       "41. 1\n",
       "42. 0\n",
       "43. 1\n",
       "44. 1\n",
       "45. 1\n",
       "46. 0\n",
       "47. 0\n",
       "48. 0\n",
       "49. 0\n",
       "50. 0\n",
       "51. 1\n",
       "52. 0\n",
       "53. 1\n",
       "54. 0\n",
       "55. 1\n",
       "56. 0\n",
       "57. 0\n",
       "58. 1\n",
       "59. 1\n",
       "60. 0\n",
       "61. 0\n",
       "62. 1\n",
       "63. 0\n",
       "64. 1\n",
       "65. 1\n",
       "66. 0\n",
       "\n",
       "\n"
      ],
      "text/plain": [
       "[[1]]\n",
       "[1] 0\n",
       "\n",
       "[[2]]\n",
       "[1] 0\n",
       "\n",
       "[[3]]\n",
       "[1] 0\n",
       "\n",
       "[[4]]\n",
       "[1] 0\n",
       "\n",
       "[[5]]\n",
       "[1] 0\n",
       "\n",
       "[[6]]\n",
       "[1] 1\n",
       "\n",
       "[[7]]\n",
       "[1] 0\n",
       "\n",
       "[[8]]\n",
       "[1] 0\n",
       "\n",
       "[[9]]\n",
       "[1] 0\n",
       "\n",
       "[[10]]\n",
       "[1] 0\n",
       "\n",
       "[[11]]\n",
       "[1] 1\n",
       "\n",
       "[[12]]\n",
       "[1] 0\n",
       "\n",
       "[[13]]\n",
       "[1] 0\n",
       "\n",
       "[[14]]\n",
       "[1] 0\n",
       "\n",
       "[[15]]\n",
       "[1] 0\n",
       "\n",
       "[[16]]\n",
       "[1] 1\n",
       "\n",
       "[[17]]\n",
       "[1] 1\n",
       "\n",
       "[[18]]\n",
       "[1] 1\n",
       "\n",
       "[[19]]\n",
       "[1] 1\n",
       "\n",
       "[[20]]\n",
       "[1] 1\n",
       "\n",
       "[[21]]\n",
       "[1] 1\n",
       "\n",
       "[[22]]\n",
       "[1] 1\n",
       "\n",
       "[[23]]\n",
       "[1] 1\n",
       "\n",
       "[[24]]\n",
       "[1] 0\n",
       "\n",
       "[[25]]\n",
       "[1] 0\n",
       "\n",
       "[[26]]\n",
       "[1] 0\n",
       "\n",
       "[[27]]\n",
       "[1] 1\n",
       "\n",
       "[[28]]\n",
       "[1] 1\n",
       "\n",
       "[[29]]\n",
       "[1] 0\n",
       "\n",
       "[[30]]\n",
       "[1] 1\n",
       "\n",
       "[[31]]\n",
       "[1] 0\n",
       "\n",
       "[[32]]\n",
       "[1] 0\n",
       "\n",
       "[[33]]\n",
       "[1] 0\n",
       "\n",
       "[[34]]\n",
       "[1] 1\n",
       "\n",
       "[[35]]\n",
       "[1] 0\n",
       "\n",
       "[[36]]\n",
       "[1] 0\n",
       "\n",
       "[[37]]\n",
       "[1] 1\n",
       "\n",
       "[[38]]\n",
       "[1] 1\n",
       "\n",
       "[[39]]\n",
       "[1] 0\n",
       "\n",
       "[[40]]\n",
       "[1] 1\n",
       "\n",
       "[[41]]\n",
       "[1] 1\n",
       "\n",
       "[[42]]\n",
       "[1] 0\n",
       "\n",
       "[[43]]\n",
       "[1] 1\n",
       "\n",
       "[[44]]\n",
       "[1] 1\n",
       "\n",
       "[[45]]\n",
       "[1] 1\n",
       "\n",
       "[[46]]\n",
       "[1] 0\n",
       "\n",
       "[[47]]\n",
       "[1] 0\n",
       "\n",
       "[[48]]\n",
       "[1] 0\n",
       "\n",
       "[[49]]\n",
       "[1] 0\n",
       "\n",
       "[[50]]\n",
       "[1] 0\n",
       "\n",
       "[[51]]\n",
       "[1] 1\n",
       "\n",
       "[[52]]\n",
       "[1] 0\n",
       "\n",
       "[[53]]\n",
       "[1] 1\n",
       "\n",
       "[[54]]\n",
       "[1] 0\n",
       "\n",
       "[[55]]\n",
       "[1] 1\n",
       "\n",
       "[[56]]\n",
       "[1] 0\n",
       "\n",
       "[[57]]\n",
       "[1] 0\n",
       "\n",
       "[[58]]\n",
       "[1] 1\n",
       "\n",
       "[[59]]\n",
       "[1] 1\n",
       "\n",
       "[[60]]\n",
       "[1] 0\n",
       "\n",
       "[[61]]\n",
       "[1] 0\n",
       "\n",
       "[[62]]\n",
       "[1] 1\n",
       "\n",
       "[[63]]\n",
       "[1] 0\n",
       "\n",
       "[[64]]\n",
       "[1] 1\n",
       "\n",
       "[[65]]\n",
       "[1] 1\n",
       "\n",
       "[[66]]\n",
       "[1] 0\n"
      ]
     },
     "metadata": {},
     "output_type": "display_data"
    }
   ],
   "source": [
    "MAP <- function(prob)\n",
    "{\n",
    "  if (prob > 50)\n",
    "  {\n",
    "    return(1)\n",
    "  }\n",
    "  else\n",
    "  {\n",
    "    return(0) \n",
    "  }\n",
    "}\n",
    "\n",
    "classifier_prediction <- function(test)\n",
    "{\n",
    "  V_prob <- prob.prediction(test)\n",
    "  V_predict <- lapply(V_prob, MAP)\n",
    "}\n",
    "\n",
    "V_predict <- classifier_prediction(test)\n",
    "V_predict"
   ]
  },
  {
   "cell_type": "markdown",
   "metadata": {},
   "source": [
    "**Question 13 - Evaluate the prediction model**"
   ]
  },
  {
   "cell_type": "code",
   "execution_count": 20,
   "metadata": {},
   "outputs": [
    {
     "data": {
      "text/plain": [
       "              V_predict\n",
       "V_real_predict  0  1\n",
       "             0 22  2\n",
       "             1 15 27"
      ]
     },
     "metadata": {},
     "output_type": "display_data"
    },
    {
     "name": "stdout",
     "output_type": "stream",
     "text": [
      "La performance de notre modèle (accuracy) est de  74,24242 %."
     ]
    }
   ],
   "source": [
    "# Get value of real survived label\n",
    "V_real_predict <- test$Survived\n",
    "\n",
    "# Convert list to value\n",
    "V_predict <- as.numeric(unlist(V_predict))\n",
    "\n",
    "# Crearting table of contingeance\n",
    "table(V_real_predict, V_predict) -> tableaucontingence\n",
    "tableaucontingence\n",
    "\n",
    "# Calculate accuracy\n",
    "acc <- sum(diag(tableaucontingence)) / nrow(test)\n",
    "cat(\"La performance de notre modèle (accuracy) est de \", acc * 100, \"%.\")"
   ]
  }
 ],
 "metadata": {
  "kernelspec": {
   "display_name": "R",
   "language": "R",
   "name": "ir"
  },
  "language_info": {
   "codemirror_mode": "r",
   "file_extension": ".r",
   "mimetype": "text/x-r-source",
   "name": "R",
   "pygments_lexer": "r",
   "version": "3.5.1"
  }
 },
 "nbformat": 4,
 "nbformat_minor": 2
}
